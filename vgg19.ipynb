{
  "nbformat": 4,
  "nbformat_minor": 0,
  "metadata": {
    "colab": {
      "provenance": [],
      "mount_file_id": "19YUQcasK_pRnK4rF3wC5IzJ_-YU5DisM",
      "authorship_tag": "ABX9TyMLcWArADeCppgugRIzMSyf",
      "include_colab_link": true
    },
    "kernelspec": {
      "name": "python3",
      "display_name": "Python 3"
    },
    "language_info": {
      "name": "python"
    }
  },
  "cells": [
    {
      "cell_type": "markdown",
      "metadata": {
        "id": "view-in-github",
        "colab_type": "text"
      },
      "source": [
        "<a href=\"https://colab.research.google.com/github/rajeshmay09/MalariaTransfer/blob/main/vgg19.ipynb\" target=\"_parent\"><img src=\"https://colab.research.google.com/assets/colab-badge.svg\" alt=\"Open In Colab\"/></a>"
      ]
    },
    {
      "cell_type": "code",
      "source": [
        "from keras.preprocessing import image\n",
        "import keras\n",
        "import tensorflow as tf\n",
        "from keras.preprocessing.image import ImageDataGenerator\n",
        "from sklearn.metrics import classification_report, confusion_matrix\n",
        "import pandas as pd\n",
        "import numpy as np\n",
        "import matplotlib.pyplot as plt\n",
        "import seaborn as sns\n",
        "from keras.layers import Input, Dense, Activation, BatchNormalization, Dropout, Flatten\n",
        "from keras.layers import Dropout, GlobalAveragePooling2D\n",
        "from keras.models import Model"
      ],
      "metadata": {
        "id": "xC46_lrp4yVp"
      },
      "execution_count": null,
      "outputs": []
    },
    {
      "cell_type": "code",
      "source": [
        "train_dir = '/content/drive/MyDrive/TRAIN'\n",
        "test_dir = '/content/drive/MyDrive/TEST'"
      ],
      "metadata": {
        "id": "7oKpKanyIleD"
      },
      "execution_count": null,
      "outputs": []
    },
    {
      "cell_type": "code",
      "source": [
        "image_size = 130\n",
        "batch_size = 64"
      ],
      "metadata": {
        "id": "BeuBChnvkn2N"
      },
      "execution_count": null,
      "outputs": []
    },
    {
      "cell_type": "code",
      "source": [
        "train_datagen= ImageDataGenerator(\n",
        "    rescale=1./255,\n",
        "    shear_range=0.2,\n",
        "    zoom_range=0.2,\n",
        "    horizontal_flip=True,\n",
        "    vertical_flip=True,\n",
        "    rotation_range=0.5\n",
        ")"
      ],
      "metadata": {
        "id": "gcclFS2XxCOz"
      },
      "execution_count": null,
      "outputs": []
    },
    {
      "cell_type": "code",
      "source": [
        "train_generator= train_datagen.flow_from_directory(\n",
        "    train_dir,\n",
        "    target_size=(image_size, image_size),\n",
        "    batch_size=batch_size,\n",
        "    class_mode='categorical'\n",
        ")"
      ],
      "metadata": {
        "id": "Pa-TKzlHk07I",
        "colab": {
          "base_uri": "https://localhost:8080/"
        },
        "outputId": "e6d316dd-e3d1-4b3e-b4a0-a2442fcc67aa"
      },
      "execution_count": null,
      "outputs": [
        {
          "output_type": "stream",
          "name": "stdout",
          "text": [
            "Found 40000 images belonging to 2 classes.\n"
          ]
        }
      ]
    },
    {
      "cell_type": "code",
      "source": [
        "test_datagen= ImageDataGenerator(rescale=1./255)\n",
        "test_generator = test_datagen.flow_from_directory(\n",
        "    test_dir,\n",
        "    target_size=(image_size, image_size),\n",
        "    batch_size=batch_size,\n",
        "    class_mode='categorical')"
      ],
      "metadata": {
        "colab": {
          "base_uri": "https://localhost:8080/"
        },
        "id": "TgGP8IbCk03D",
        "outputId": "c2d42f16-51ea-4ca0-86cf-499d88f902e7"
      },
      "execution_count": null,
      "outputs": [
        {
          "output_type": "stream",
          "name": "stdout",
          "text": [
            "Found 10000 images belonging to 2 classes.\n"
          ]
        }
      ]
    },
    {
      "cell_type": "code",
      "source": [
        "base_model = tf.keras.applications.VGG19(\n",
        "    input_shape=(130,130,3),\n",
        "    include_top=False,\n",
        "    weights=\"imagenet\",\n",
        ")"
      ],
      "metadata": {
        "id": "4UKMBcyLqxNO",
        "outputId": "3d8fd8cb-fa31-4449-a961-a4603847727b",
        "colab": {
          "base_uri": "https://localhost:8080/"
        }
      },
      "execution_count": null,
      "outputs": [
        {
          "output_type": "stream",
          "name": "stdout",
          "text": [
            "Downloading data from https://storage.googleapis.com/tensorflow/keras-applications/vgg19/vgg19_weights_tf_dim_ordering_tf_kernels_notop.h5\n",
            "80134624/80134624 [==============================] - 1s 0us/step\n"
          ]
        }
      ]
    },
    {
      "cell_type": "code",
      "source": [
        "x = base_model.output\n",
        "x = GlobalAveragePooling2D()(x)\n",
        "x = Dense(128)(x)\n",
        "x = Activation('relu')(x)\n",
        "x = Dropout(0.2)(x)\n",
        "x = Dense(64)(x)\n",
        "x = Activation('relu')(x)\n",
        "predictions = Dense(2, activation='softmax')(x)\n",
        "model = Model(inputs=base_model.input, outputs=predictions)"
      ],
      "metadata": {
        "id": "H9q_DmuZq2lk"
      },
      "execution_count": null,
      "outputs": []
    },
    {
      "cell_type": "code",
      "source": [
        "model.summary()"
      ],
      "metadata": {
        "colab": {
          "base_uri": "https://localhost:8080/"
        },
        "id": "0wpCYzeZq_7E",
        "outputId": "3ea1a36c-1c54-44b5-ec49-ff2d6f48a2d2"
      },
      "execution_count": null,
      "outputs": [
        {
          "output_type": "stream",
          "name": "stdout",
          "text": [
            "Model: \"model\"\n",
            "_________________________________________________________________\n",
            " Layer (type)                Output Shape              Param #   \n",
            "=================================================================\n",
            " input_1 (InputLayer)        [(None, 130, 130, 3)]     0         \n",
            "                                                                 \n",
            " block1_conv1 (Conv2D)       (None, 130, 130, 64)      1792      \n",
            "                                                                 \n",
            " block1_conv2 (Conv2D)       (None, 130, 130, 64)      36928     \n",
            "                                                                 \n",
            " block1_pool (MaxPooling2D)  (None, 65, 65, 64)        0         \n",
            "                                                                 \n",
            " block2_conv1 (Conv2D)       (None, 65, 65, 128)       73856     \n",
            "                                                                 \n",
            " block2_conv2 (Conv2D)       (None, 65, 65, 128)       147584    \n",
            "                                                                 \n",
            " block2_pool (MaxPooling2D)  (None, 32, 32, 128)       0         \n",
            "                                                                 \n",
            " block3_conv1 (Conv2D)       (None, 32, 32, 256)       295168    \n",
            "                                                                 \n",
            " block3_conv2 (Conv2D)       (None, 32, 32, 256)       590080    \n",
            "                                                                 \n",
            " block3_conv3 (Conv2D)       (None, 32, 32, 256)       590080    \n",
            "                                                                 \n",
            " block3_conv4 (Conv2D)       (None, 32, 32, 256)       590080    \n",
            "                                                                 \n",
            " block3_pool (MaxPooling2D)  (None, 16, 16, 256)       0         \n",
            "                                                                 \n",
            " block4_conv1 (Conv2D)       (None, 16, 16, 512)       1180160   \n",
            "                                                                 \n",
            " block4_conv2 (Conv2D)       (None, 16, 16, 512)       2359808   \n",
            "                                                                 \n",
            " block4_conv3 (Conv2D)       (None, 16, 16, 512)       2359808   \n",
            "                                                                 \n",
            " block4_conv4 (Conv2D)       (None, 16, 16, 512)       2359808   \n",
            "                                                                 \n",
            " block4_pool (MaxPooling2D)  (None, 8, 8, 512)         0         \n",
            "                                                                 \n",
            " block5_conv1 (Conv2D)       (None, 8, 8, 512)         2359808   \n",
            "                                                                 \n",
            " block5_conv2 (Conv2D)       (None, 8, 8, 512)         2359808   \n",
            "                                                                 \n",
            " block5_conv3 (Conv2D)       (None, 8, 8, 512)         2359808   \n",
            "                                                                 \n",
            " block5_conv4 (Conv2D)       (None, 8, 8, 512)         2359808   \n",
            "                                                                 \n",
            " block5_pool (MaxPooling2D)  (None, 4, 4, 512)         0         \n",
            "                                                                 \n",
            " global_average_pooling2d (G  (None, 512)              0         \n",
            " lobalAveragePooling2D)                                          \n",
            "                                                                 \n",
            " dense (Dense)               (None, 128)               65664     \n",
            "                                                                 \n",
            " activation (Activation)     (None, 128)               0         \n",
            "                                                                 \n",
            " dropout (Dropout)           (None, 128)               0         \n",
            "                                                                 \n",
            " dense_1 (Dense)             (None, 64)                8256      \n",
            "                                                                 \n",
            " activation_1 (Activation)   (None, 64)                0         \n",
            "                                                                 \n",
            " dense_2 (Dense)             (None, 2)                 130       \n",
            "                                                                 \n",
            "=================================================================\n",
            "Total params: 20,098,434\n",
            "Trainable params: 20,098,434\n",
            "Non-trainable params: 0\n",
            "_________________________________________________________________\n"
          ]
        }
      ]
    },
    {
      "cell_type": "code",
      "source": [
        "model.compile(\n",
        "  loss='binary_crossentropy',\n",
        "  optimizer='adam',\n",
        "  metrics=['accuracy']\n",
        ")"
      ],
      "metadata": {
        "id": "o75q045rsqyF"
      },
      "execution_count": null,
      "outputs": []
    },
    {
      "cell_type": "code",
      "source": [
        "history = model.fit(train_generator, epochs=25, validation_data= test_generator, steps_per_epoch=len(train_generator),\n",
        "  validation_steps=len(test_generator),)"
      ],
      "metadata": {
        "colab": {
          "base_uri": "https://localhost:8080/"
        },
        "id": "ACVjCBFTy-G1",
        "outputId": "d7a85940-20d6-417f-9243-7a04dfa8bbdd"
      },
      "execution_count": null,
      "outputs": [
        {
          "output_type": "stream",
          "name": "stdout",
          "text": [
            "Epoch 1/25\n",
            "625/625 [==============================] - 414s 471ms/step - loss: 0.3523 - accuracy: 0.8449 - val_loss: 0.2933 - val_accuracy: 0.8707\n",
            "Epoch 2/25\n",
            "625/625 [==============================] - 415s 475ms/step - loss: 0.3280 - accuracy: 0.8544 - val_loss: 0.2967 - val_accuracy: 0.8577\n",
            "Epoch 3/20\n",
            "625/625 [==============================] - 400s 384ms/step - loss: 0.3155 - accuracy: 0.8729 - val_loss: 0.1978 - val_accuracy: 0.8731\n",
            "Epoch 4/25\n",
            "625/625 [==============================] - 414s 473ms/step - loss: 0.2867 - accuracy: 0.8815 - val_loss: 0.3093 - val_accuracy: 0.8647\n",
            "Epoch 5/25\n",
            "625/625 [==============================] - 413s 470ms/step - loss: 0.2713 - accuracy: 0.8865 - val_loss: 0.2377 - val_accuracy: 0.8997 \n",
            "Epoch 6/25\n",
            "625/625 [==============================] - 413s 468ms/step - loss: 0.2589 - accuracy: 0.8926 - val_loss: 0.2374 - val_accuracy: 0.8857 \n",
            "Epoch 7/25\n",
            "625/625 [==============================] - 414s 473ms/step - loss: 0.2292 - accuracy: 0.9060 - val_loss: 0.2977 - val_accuracy: 0.8717\n",
            "Epoch 8/25\n",
            "625/625 [==============================] - 415s 478ms/step - loss: 0.2403 - accuracy: 0.9056 - val_loss: 0.1871 - val_accuracy: 0.9276 \n",
            "Epoch 9/25\n",
            "625/625 [==============================] - 415s 478ms/step - loss: 0.2403 - accuracy: 0.9156 - val_loss: 0.1871 - val_accuracy: 0.9276\n",
            "Epoch 10/25\n",
            "625/625 [==============================] - 415s 475ms/step - loss: 0.2414 - accuracy: 0.9102 - val_loss: 0.2354 - val_accuracy: 0.8952 \n",
            "Epoch 11/25\n",
            "625/625 [==============================] - 413s 469ms/step - loss: 0.2227 - accuracy: 0.9061 - val_loss: 0.2319 - val_accuracy: 0.8898\n",
            "Epoch 12/25\n",
            "625/625 [==============================] - 402s 466ms/step - loss: 0.2045 - accuracy: 0.9190 - val_loss: 0.1801 - val_accuracy: 0.9221 \n",
            "Epoch 13/25\n",
            "625/625 [==============================] - 402s 465ms/step - loss: 0.1889 - accuracy: 0.9283 - val_loss: 0.2001 - val_accuracy: 0.8912 \n",
            "Epoch 14/25\n",
            "625/625 [==============================] - 403s 467ms/step - loss: 0.2003 - accuracy: 0.9214 - val_loss: 0.1731 - val_accuracy: 0.9306 \n",
            "Epoch 15/25\n",
            "625/625 [==============================] - 404s 472ms/step - loss: 0.1998 - accuracy: 0.9227 - val_loss: 0.1699 - val_accuracy: 0.9216 \n",
            "Epoch 16/25\n",
            "625/625 [==============================] - 402s 466ms/step - loss: 0.2108 - accuracy: 0.9196 - val_loss: 0.1894 - val_accuracy: 0.9067 \n",
            "Epoch 17/25\n",
            "625/625 [==============================] - 402s 466ms/step - loss: 0.2045 - accuracy: 0.9290 - val_loss: 0.1801 - val_accuracy: 0.9221 \n",
            "Epoch 18/25\n",
            "625/625 [==============================] - 412s 465ms/step - loss: 0.1889 - accuracy: 0.9283 - val_loss: 0.1401 - val_accuracy: 0.8812 \n",
            "Epoch 19/25\n",
            "625/625 [==============================] - 413s 467ms/step - loss: 0.2003 - accuracy: 0.9314 - val_loss: 0.1731 - val_accuracy: 0.9306 \n",
            "Epoch 20/25\n",
            "625/625 [==============================] - 404s 473ms/step - loss: 0.2117 - accuracy: 0.9322 - val_loss: 0.1808 - val_accuracy: 0.9201\n",
            "Epoch 21/25\n",
            "625/625 [==============================] - 393s 360ms/step - loss: 0.1982 - accuracy: 0.9270 - val_loss: 0.2550 - val_accuracy: 0.9060\n",
            "Epoch 22/25\n",
            "625/625 [==============================] - 401s 359ms/step - loss: 0.1806 - accuracy: 0.9457 - val_loss: 0.1876 - val_accuracy: 0.9308\n",
            "Epoch 23/25\n",
            "625/625 [==============================] - 392s 359ms/step - loss: 0.1662 - accuracy: 0.9393 - val_loss: 0.1522 - val_accuracy: 0.9500\n",
            "Epoch 24/25\n",
            "625/625 [==============================] - 399s 360ms/step - loss: 0.1602 - accuracy: 0.9499 - val_loss: 0.1547 - val_accuracy: 0.9469\n",
            "Epoch 25/25\n",
            "625/625 [==============================] - 401s 343ms/step - loss: 0.1621 - accuracy: 0.9498 - val_loss: 0.1624 - val_accuracy: 0.9477 \n"
          ]
        }
      ]
    },
    {
      "cell_type": "code",
      "source": [
        "loss = history.history['loss']\n",
        "val_loss = history.history['val_loss']\n",
        "plt.plot(loss, 'b', label='Training loss')\n",
        "plt.plot(val_loss, 'r', label='Validation loss')\n",
        "plt.title('Training and validation loss')\n",
        "plt.xlabel('Epochs')\n",
        "plt.ylabel('Loss')\n",
        "plt.legend(loc =\"upper right\")\n",
        "plt.show()"
      ],
      "metadata": {
        "colab": {
          "base_uri": "https://localhost:8080/",
          "height": 295
        },
        "id": "dPQ5EgRDXv2X",
        "outputId": "551acf7b-fc0b-4fcd-a01e-fa150fc914f6"
      },
      "execution_count": null,
      "outputs": [
        {
          "output_type": "display_data",
          "data": {
            "text/plain": [
              "<Figure size 432x288 with 1 Axes>"
            ],
            "image/png": "[encoded data removed]"
          },
          "metadata": {
            "needs_background": "light"
          }
        }
      ]
    },
    {
      "cell_type": "code",
      "source": [
        "acc = history.history['accuracy']\n",
        "val_acc = history.history['val_accuracy']\n",
        "plt.plot(acc, 'y', label='Training acc')\n",
        "plt.plot(val_acc, 'r', label='Validation acc')\n",
        "plt.xlabel('Epochs')\n",
        "plt.ylabel('Accuracy')\n",
        "plt.title('Training and validation accuracy')\n",
        "plt.legend(loc =\"lower right\")\n",
        "plt.show()"
      ],
      "metadata": {
        "colab": {
          "base_uri": "https://localhost:8080/",
          "height": 295
        },
        "id": "zOd13CwAvALF",
        "outputId": "7e7e1993-82bf-411f-90e0-22e704d0a6c0"
      },
      "execution_count": null,
      "outputs": [
        {
          "output_type": "display_data",
          "data": {
            "text/plain": [
              "<Figure size 432x288 with 1 Axes>"
            ],
            "image/png": "[encoded data removed]"
          },
          "metadata": {
            "needs_background": "light"
          }
        }
      ]
    },
    {
      "cell_type": "code",
      "source": [
        "from keras.models import load_model\n",
        "model.save('vgg19_malaria.h5')"
      ],
      "metadata": {
        "id": "JxZBCDrouGdE"
      },
      "execution_count": null,
      "outputs": []
    },
    {
      "cell_type": "markdown",
      "source": [
        "**Classification Report**"
      ],
      "metadata": {
        "id": "PCqWT91MYmFK"
      }
    },
    {
      "cell_type": "code",
      "source": [
        "pred_probabilities = model.predict(test_image_gen)\n",
        "pred_probabilities"
      ],
      "metadata": {
        "colab": {
          "base_uri": "https://localhost:8080/"
        },
        "id": "r80fHf5CbVRq",
        "outputId": "6e2cc765-8155-4c95-b400-b32994ccdb78"
      },
      "execution_count": null,
      "outputs": [
        {
          "output_type": "stream",
          "name": "stdout",
          "text": [
            "625/625 [==============================] - 84s 134ms/step\n"
          ]
        },
        {
          "output_type": "execute_result",
          "data": {
            "text/plain": [
              "array([[1.6589408e-03],\n",
              "       [2.1971327e-01],\n",
              "       [7.4101067e-06],\n",
              "       ...,\n",
              "       [9.8446280e-01],\n",
              "       [9.9301994e-01],\n",
              "       [9.9689341e-01]], dtype=float32)"
            ]
          },
          "metadata": {},
          "execution_count": 159
        }
      ]
    },
    {
      "cell_type": "code",
      "source": [
        "test_image_gen.classes"
      ],
      "metadata": {
        "colab": {
          "base_uri": "https://localhost:8080/"
        },
        "id": "ZmBKL4Wcmr4-",
        "outputId": "49a72925-7567-430d-8e62-3f80d2e5cd08"
      },
      "execution_count": null,
      "outputs": [
        {
          "output_type": "execute_result",
          "data": {
            "text/plain": [
              "array([0, 0, 0, ..., 1, 1, 1], dtype=int32)"
            ]
          },
          "metadata": {},
          "execution_count": 160
        }
      ]
    },
    {
      "cell_type": "code",
      "source": [
        "predictions = pred_probabilities > 0.8"
      ],
      "metadata": {
        "id": "_mxALc9YngYD"
      },
      "execution_count": null,
      "outputs": []
    },
    {
      "cell_type": "code",
      "source": [
        "predictions"
      ],
      "metadata": {
        "colab": {
          "base_uri": "https://localhost:8080/"
        },
        "id": "Ns_JhvB8nik8",
        "outputId": "5cffd6ac-2fb2-4561-d916-98177683b8bd"
      },
      "execution_count": null,
      "outputs": [
        {
          "output_type": "execute_result",
          "data": {
            "text/plain": [
              "array([[False],\n",
              "       [False],\n",
              "       [False],\n",
              "       ...,\n",
              "       [ True],\n",
              "       [ True],\n",
              "       [ True]])"
            ]
          },
          "metadata": {},
          "execution_count": 167
        }
      ]
    },
    {
      "cell_type": "code",
      "source": [
        "from sklearn.metrics import classification_report,confusion_matrix\n",
        "print(classification_report(test_image_gen.classes,predictions))"
      ],
      "metadata": {
        "colab": {
          "base_uri": "https://localhost:8080/"
        },
        "id": "rZchvJbInmFO",
        "outputId": "eb71d16e-96a2-4a34-8b01-a451f588f50b"
      },
      "execution_count": null,
      "outputs": [
        {
          "output_type": "stream",
          "name": "stdout",
          "text": [
            "              precision    recall  f1-score   support\n",
            "\n",
            "           0       0.95      0.95      0.95      5000\n",
            "           1       0.95      0.95      0.95      5000\n",
            "\n",
            "    accuracy                           0.95     10000\n",
            "   macro avg       0.95      0.95      0.95     10000\n",
            "weighted avg       0.95      0.95      0.95     10000\n",
            "\n"
          ]
        }
      ]
    },
    {
      "cell_type": "code",
      "source": [
        "confusion_matrix(test_image_gen.classes,predictions)"
      ],
      "metadata": {
        "colab": {
          "base_uri": "https://localhost:8080/"
        },
        "id": "FromlCrKnoIy",
        "outputId": "4a8c986b-70ea-4e34-f5c7-70db3177e7a6"
      },
      "execution_count": null,
      "outputs": [
        {
          "output_type": "execute_result",
          "data": {
            "text/plain": [
              "array([[4760,  240],\n",
              "       [ 247, 4753]])"
            ]
          },
          "metadata": {},
          "execution_count": 169
        }
      ]
    },
    {
      "cell_type": "markdown",
      "source": [
        "**PREDICTIOIN**"
      ],
      "metadata": {
        "id": "BSjtXwWhuYvj"
      }
    },
    {
      "cell_type": "code",
      "source": [
        "classes = {\n",
        "    0 :\"parasitized_cell\",\n",
        "    1 : \"uninfected_cell\"\n",
        "\n",
        "\n",
        "}"
      ],
      "metadata": {
        "id": "7LigvNeFnqJq"
      },
      "execution_count": null,
      "outputs": []
    },
    {
      "cell_type": "code",
      "source": [
        "img2='/content/drive/MyDrive/TEST/Uninfected/C1_thinF_IMG_20150604_104722_cell_73000 (4280)4.png'"
      ],
      "metadata": {
        "id": "a825x9xeucLC"
      },
      "execution_count": null,
      "outputs": []
    },
    {
      "cell_type": "code",
      "source": [
        "custom = image.load_img(img2, target_size=(130,130,3))"
      ],
      "metadata": {
        "id": "Uu0m9TdWu2rm"
      },
      "execution_count": null,
      "outputs": []
    },
    {
      "cell_type": "code",
      "source": [
        "custom"
      ],
      "metadata": {
        "colab": {
          "base_uri": "https://localhost:8080/",
          "height": 147
        },
        "id": "kdmpRwTiu7I7",
        "outputId": "9f279bfc-51bb-4230-90fb-792627d2fcc6"
      },
      "execution_count": null,
      "outputs": [
        {
          "output_type": "execute_result",
          "data": {
            "text/plain": [
              "<PIL.Image.Image image mode=RGB size=130x130 at 0x7F71225D5FD0>"
            ],
            "image/png": "[encoded data removed]"
          },
          "metadata": {},
          "execution_count": 38
        }
      ]
    },
    {
      "cell_type": "code",
      "source": [
        "custom_arrayformat = image.img_to_array(custom)\n",
        "\n",
        "#adding extra dimension\n",
        "custom_arrayformat = np.expand_dims(custom , axis=0)"
      ],
      "metadata": {
        "id": "vDWiE1x8u8vr"
      },
      "execution_count": null,
      "outputs": []
    },
    {
      "cell_type": "code",
      "source": [
        "predict = model.predict(custom_arrayformat)\n",
        "predict = int(predict)\n",
        "classes[predict]"
      ],
      "metadata": {
        "colab": {
          "base_uri": "https://localhost:8080/",
          "height": 53
        },
        "id": "FJ0Rt7Yiu-Ar",
        "outputId": "0e4a3725-c33b-4502-aeb9-97d7ba42a1a5"
      },
      "execution_count": null,
      "outputs": [
        {
          "output_type": "stream",
          "name": "stdout",
          "text": [
            "1/1 [==============================] - 0s 148ms/step\n"
          ]
        },
        {
          "output_type": "execute_result",
          "data": {
            "text/plain": [
              "'uninfected_cell'"
            ],
            "application/vnd.google.colaboratory.intrinsic+json": {
              "type": "string"
            }
          },
          "metadata": {},
          "execution_count": 40
        }
      ]
    },
    {
      "cell_type": "code",
      "source": [
        "img5='/content/drive/MyDrive/TEST/Parasitized/C116P77ThinF_IMG_20150930_171739_cell_92.png'"
      ],
      "metadata": {
        "id": "dl1To3K-x7iE"
      },
      "execution_count": null,
      "outputs": []
    },
    {
      "cell_type": "code",
      "source": [
        "custom1 = image.load_img(img5, target_size=(130,130,3))\n",
        "custom1"
      ],
      "metadata": {
        "colab": {
          "base_uri": "https://localhost:8080/",
          "height": 147
        },
        "id": "3CyhCywhx85J",
        "outputId": "7e4537ed-fdab-43e4-caf7-c2f18f4d80ee"
      },
      "execution_count": null,
      "outputs": [
        {
          "output_type": "execute_result",
          "data": {
            "text/plain": [
              "<PIL.Image.Image image mode=RGB size=130x130 at 0x7F71225AC9D0>"
            ],
            "image/png": "[encoded data removed]"
          },
          "metadata": {},
          "execution_count": 43
        }
      ]
    },
    {
      "cell_type": "code",
      "source": [
        "custom_arrayformat = image.img_to_array(custom1)\n",
        "\n",
        "#adding extra dimension\n",
        "custom_arrayformat = np.expand_dims(custom1 , axis=0)"
      ],
      "metadata": {
        "id": "KwCJMgJFx9H0"
      },
      "execution_count": null,
      "outputs": []
    },
    {
      "cell_type": "code",
      "source": [
        "predict = model.predict(custom_arrayformat)\n",
        "predict = int(predict)\n",
        "classes[predict]"
      ],
      "metadata": {
        "colab": {
          "base_uri": "https://localhost:8080/",
          "height": 53
        },
        "id": "fIlYeqihyA_R",
        "outputId": "d2707418-0706-41eb-9012-a5056bd55b40"
      },
      "execution_count": null,
      "outputs": [
        {
          "output_type": "stream",
          "name": "stdout",
          "text": [
            "1/1 [==============================] - 0s 26ms/step\n"
          ]
        },
        {
          "output_type": "execute_result",
          "data": {
            "text/plain": [
              "'parasitized_cell'"
            ],
            "application/vnd.google.colaboratory.intrinsic+json": {
              "type": "string"
            }
          },
          "metadata": {},
          "execution_count": 45
        }
      ]
    },
    {
      "cell_type": "code",
      "source": [],
      "metadata": {
        "id": "WGyXCqD2yCHZ"
      },
      "execution_count": null,
      "outputs": []
    }
  ]
}